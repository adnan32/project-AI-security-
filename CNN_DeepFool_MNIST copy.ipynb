{
 "cells": [
  {
   "cell_type": "markdown",
   "metadata": {},
   "source": [
    "# CNN Model for MNISt"
   ]
  },
  {
   "cell_type": "code",
   "execution_count": 1,
   "metadata": {},
   "outputs": [
    {
     "name": "stderr",
     "output_type": "stream",
     "text": [
      "c:\\Users\\adnan\\anaconda3\\envs\\new\\lib\\site-packages\\scipy\\__init__.py:155: UserWarning: A NumPy version >=1.18.5 and <1.26.0 is required for this version of SciPy (detected version 1.26.3\n",
      "  warnings.warn(f\"A NumPy version >={np_minversion} and <{np_maxversion}\"\n"
     ]
    },
    {
     "name": "stdout",
     "output_type": "stream",
     "text": [
      "WARNING:tensorflow:From c:\\Users\\adnan\\anaconda3\\envs\\new\\lib\\site-packages\\keras\\src\\losses.py:2976: The name tf.losses.sparse_softmax_cross_entropy is deprecated. Please use tf.compat.v1.losses.sparse_softmax_cross_entropy instead.\n",
      "\n",
      "WARNING:tensorflow:From c:\\Users\\adnan\\anaconda3\\envs\\new\\lib\\site-packages\\keras\\src\\backend.py:873: The name tf.get_default_graph is deprecated. Please use tf.compat.v1.get_default_graph instead.\n",
      "\n",
      "WARNING:tensorflow:From c:\\Users\\adnan\\anaconda3\\envs\\new\\lib\\site-packages\\keras\\src\\layers\\pooling\\max_pooling2d.py:161: The name tf.nn.max_pool is deprecated. Please use tf.nn.max_pool2d instead.\n",
      "\n",
      "WARNING:tensorflow:From c:\\Users\\adnan\\anaconda3\\envs\\new\\lib\\site-packages\\keras\\src\\optimizers\\__init__.py:309: The name tf.train.Optimizer is deprecated. Please use tf.compat.v1.train.Optimizer instead.\n",
      "\n",
      "Epoch 1/3\n",
      "WARNING:tensorflow:From c:\\Users\\adnan\\anaconda3\\envs\\new\\lib\\site-packages\\keras\\src\\utils\\tf_utils.py:492: The name tf.ragged.RaggedTensorValue is deprecated. Please use tf.compat.v1.ragged.RaggedTensorValue instead.\n",
      "\n",
      "WARNING:tensorflow:From c:\\Users\\adnan\\anaconda3\\envs\\new\\lib\\site-packages\\keras\\src\\engine\\base_layer_utils.py:384: The name tf.executing_eagerly_outside_functions is deprecated. Please use tf.compat.v1.executing_eagerly_outside_functions instead.\n",
      "\n",
      "1875/1875 [==============================] - 23s 12ms/step - loss: 0.1624 - accuracy: 0.9523 - val_loss: 0.0565 - val_accuracy: 0.9816\n",
      "Epoch 2/3\n",
      "1875/1875 [==============================] - 20s 11ms/step - loss: 0.0552 - accuracy: 0.9832 - val_loss: 0.0492 - val_accuracy: 0.9833\n",
      "Epoch 3/3\n",
      "1875/1875 [==============================] - 18s 10ms/step - loss: 0.0364 - accuracy: 0.9888 - val_loss: 0.0417 - val_accuracy: 0.9859\n"
     ]
    }
   ],
   "source": [
    "import tensorflow as tf\n",
    "from tensorflow.keras.datasets import mnist\n",
    "from tensorflow.keras.models import Sequential\n",
    "from tensorflow.keras.layers import Dense, Conv2D, Flatten, MaxPooling2D\n",
    "from tensorflow.keras.utils import to_categorical\n",
    "\n",
    "# Load and preprocess the MNIST dataset\n",
    "(x_train, y_train), (x_test, y_test) = mnist.load_data()\n",
    "x_train = x_train.reshape(x_train.shape[0], 28, 28, 1).astype('float32') / 255\n",
    "x_test = x_test.reshape(x_test.shape[0], 28, 28, 1).astype('float32') / 255\n",
    "y_train = to_categorical(y_train, 10)\n",
    "y_test = to_categorical(y_test, 10)\n",
    "\n",
    "# Define the CNN model\n",
    "model = Sequential([\n",
    "    Conv2D(32, kernel_size=(3, 3), activation='relu', input_shape=(28, 28, 1)),\n",
    "    MaxPooling2D(pool_size=(2, 2)),\n",
    "    Flatten(),\n",
    "    Dense(64, activation='relu'),\n",
    "    Dense(10, activation='softmax')\n",
    "])\n",
    "\n",
    "# Compile the model\n",
    "model.compile(optimizer='adam', loss='categorical_crossentropy', metrics=['accuracy'])\n",
    "with tf.device('/GPU:0'):\n",
    "# Train the model\n",
    "    model.fit(x_train, y_train, validation_data=(x_test, y_test), epochs=3)"
   ]
  },
  {
   "cell_type": "code",
   "execution_count": 2,
   "metadata": {},
   "outputs": [
    {
     "name": "stdout",
     "output_type": "stream",
     "text": [
      "313/313 [==============================] - 1s 3ms/step\n",
      "Accuracy for the original data:  98.59\n"
     ]
    }
   ],
   "source": [
    "import numpy as np\n",
    "prediction=model.predict(x_test)\n",
    "accuracy_orginal=np.mean(np.argmax(prediction, axis=1) == np.argmax(y_test, axis=1))\n",
    "print(\"Accuracy for the original data: \",accuracy_orginal*100)"
   ]
  },
  {
   "cell_type": "markdown",
   "metadata": {},
   "source": [
    "# Deep Fool Attack"
   ]
  },
  {
   "cell_type": "code",
   "execution_count": 3,
   "metadata": {},
   "outputs": [
    {
     "data": {
      "application/vnd.jupyter.widget-view+json": {
       "model_id": "f33480c639db487387149f76139b25f3",
       "version_major": 2,
       "version_minor": 0
      },
      "text/plain": [
       "DeepFool:   0%|          | 0/10000 [00:00<?, ?it/s]"
      ]
     },
     "metadata": {},
     "output_type": "display_data"
    },
    {
     "name": "stdout",
     "output_type": "stream",
     "text": [
      "WARNING:tensorflow:Calling GradientTape.gradient on a persistent tape inside its context is significantly less efficient than calling it outside the context (it causes the gradient ops to be recorded on the tape, leading to increased CPU and memory usage). Only call GradientTape.gradient inside the context if you actually want to trace the gradient in order to compute higher order derivatives.\n"
     ]
    }
   ],
   "source": [
    "from art.attacks.evasion import DeepFool\n",
    "from art.estimators.classification import TensorFlowV2Classifier\n",
    "from tensorflow.keras.optimizers import Adam\n",
    "\n",
    "# Convert the Keras model to an ART classifier\n",
    "classifier = TensorFlowV2Classifier(\n",
    "    model=model,\n",
    "    nb_classes=10,\n",
    "    input_shape=(28, 28, 1),\n",
    "    loss_object=tf.keras.losses.CategoricalCrossentropy(),\n",
    "    clip_values=(0, 1),\n",
    "    optimizer=Adam(learning_rate=0.001) \n",
    ")\n",
    "\n",
    "# Create the DeepFool attack\n",
    "attack = DeepFool(classifier)\n",
    "\n",
    "# Generate adversarial test examples\n",
    "x_test_adv = attack.generate(x_test,y_test)\n"
   ]
  },
  {
   "cell_type": "code",
   "execution_count": 4,
   "metadata": {},
   "outputs": [
    {
     "name": "stdout",
     "output_type": "stream",
     "text": [
      "313/313 [==============================] - 1s 4ms/step\n",
      "Accuracy after aplying deepfool attack:  3.7900000000000005\n"
     ]
    }
   ],
   "source": [
    "prediction_attack=model.predict(x_test_adv)\n",
    "accuracy_attack=np.mean(np.argmax(prediction_attack, axis=1) == np.argmax(y_test, axis=1))\n",
    "print(\"Accuracy after aplying deepfool attack: \",accuracy_attack*100)"
   ]
  },
  {
   "cell_type": "markdown",
   "metadata": {},
   "source": [
    "### Comparing Adversarial and Original"
   ]
  },
  {
   "cell_type": "markdown",
   "metadata": {},
   "source": [
    "##"
   ]
  },
  {
   "cell_type": "code",
   "execution_count": 5,
   "metadata": {},
   "outputs": [
    {
     "data": {
      "image/png": "[encoded data removed]",
      "text/plain": [
       "<Figure size 1000x500 with 2 Axes>"
      ]
     },
     "metadata": {},
     "output_type": "display_data"
    }
   ],
   "source": [
    "import numpy as np\n",
    "import matplotlib.pyplot as plt\n",
    "\n",
    "# Let's select the first image in the test set for comparison\n",
    "original_image = x_test[10]\n",
    "adversarial_image = x_test_adv[10]\n",
    "\n",
    "# Predictions before the attack\n",
    "original_pred = classifier.predict(np.array([original_image]))\n",
    "# Predictions after the attack\n",
    "adversarial_pred = classifier.predict(np.array([adversarial_image]))\n",
    "\n",
    "# Reshape images for plotting\n",
    "original_image = original_image.reshape(28, 28)\n",
    "adversarial_image = adversarial_image.reshape(28, 28)\n",
    "\n",
    "# Plot the original and adversarial images\n",
    "plt.figure(figsize=(10, 5))\n",
    "\n",
    "# Original image\n",
    "plt.subplot(1, 2, 1)\n",
    "plt.imshow(original_image, cmap='gray')\n",
    "plt.title(f\"Original Image\\nPredicted: {np.argmax(original_pred)}\")\n",
    "plt.axis('off')\n",
    "\n",
    "# Adversarial image\n",
    "plt.subplot(1, 2, 2)\n",
    "plt.imshow(adversarial_image, cmap='gray')\n",
    "plt.title(f\"Adversarial Image\\nPredicted: {np.argmax(adversarial_pred)}\")\n",
    "plt.axis('off')\n",
    "\n",
    "plt.show()\n"
   ]
  },
  {
   "cell_type": "code",
   "execution_count": 62,
   "metadata": {},
   "outputs": [
    {
     "data": {
      "text/plain": [
       "Text(0.5, 1.0, 'Comparing the accuracy befor the attack and after')"
      ]
     },
     "execution_count": 62,
     "metadata": {},
     "output_type": "execute_result"
    },
    {
     "data": {
      "image/png": "[encoded data removed]",
      "text/plain": [
       "<Figure size 640x480 with 1 Axes>"
      ]
     },
     "metadata": {},
     "output_type": "display_data"
    }
   ],
   "source": [
    "comparing_accuracy=[accuracy_orginal*100,accuracy_attack*100]\n",
    "plt.bar([\"Original\",\"Attack\"],comparing_accuracy)\n",
    "plt.title(\"Comparing the accuracy befor the attack and after\")"
   ]
  },
  {
   "cell_type": "markdown",
   "metadata": {},
   "source": [
    "# Defenses"
   ]
  },
  {
   "cell_type": "markdown",
   "metadata": {},
   "source": [
    "### Feature Squeezing"
   ]
  },
  {
   "cell_type": "code",
   "execution_count": 35,
   "metadata": {},
   "outputs": [
    {
     "name": "stdout",
     "output_type": "stream",
     "text": [
      "313/313 [==============================] - 1s 3ms/step\n",
      "Accuracy on feature-squeezed adversarial examples: 13.55%\n"
     ]
    }
   ],
   "source": [
    "from art.defences.preprocessor import FeatureSqueezing\n",
    "\n",
    "# Initialize feature squeezing\n",
    "fs = FeatureSqueezing(clip_values=(0, 1), bit_depth=1)\n",
    "\n",
    "# Apply feature squeezing to the adversarial examples\n",
    "x_test_adv_squeezed, _ = fs(x_test_adv)\n",
    "\n",
    "# Evaluate the model on the feature-squeezed adversarial examples\n",
    "predictions = model.predict(x_test_adv_squeezed)\n",
    "accuracy_feature = np.mean(np.argmax(predictions, axis=1) == np.argmax(y_test, axis=1))\n",
    "print(\"Accuracy on feature-squeezed adversarial examples: {:.2%}\".format(accuracy_feature))\n"
   ]
  },
  {
   "cell_type": "markdown",
   "metadata": {},
   "source": [
    "### Thermometer Encoding"
   ]
  },
  {
   "cell_type": "markdown",
   "metadata": {},
   "source": [
    "This defense discretizes the inputs into a number of levels which are then encoded using a thermometer-style code. It can sometimes obscure the gradients that the DeepFool attack relies on."
   ]
  },
  {
   "cell_type": "code",
   "execution_count": 6,
   "metadata": {},
   "outputs": [],
   "source": [
    "from art.defences.preprocessor import ThermometerEncoding\n",
    "import numpy as np\n",
    "\n",
    "# Initialize the Thermometer Encoding defense\n",
    "thermometer_encoding = ThermometerEncoding(num_space=10, clip_values=(0, 1), apply_fit=True, apply_predict=False)\n",
    "\n",
    "# Apply the defense to the training and test data\n",
    "x_train_te, _ = thermometer_encoding(x_train)\n",
    "x_test_te, _ = thermometer_encoding(x_test_adv)\n",
    "\n",
    "# Reduce the encoded data back to the original number of channels\n",
    "# For example, by taking the average across the thermometer-encoded channels\n",
    "x_train_te_reduced = np.mean(x_train_te, axis=-1, keepdims=True)\n",
    "x_test_te_reduced = np.mean(x_test_te, axis=-1, keepdims=True)\n",
    "\n",
    "with tf.device('/GPU:0'):\n",
    "# Train the model with the reduced thermometer-encoded data\n",
    "    classifier.fit(x_train_te_reduced, y_train, nb_epochs=5, batch_size=64)\n"
   ]
  },
  {
   "cell_type": "code",
   "execution_count": 36,
   "metadata": {},
   "outputs": [
    {
     "name": "stdout",
     "output_type": "stream",
     "text": [
      "Accuracy on reduced thermometer-encoded test examples: 95.39%\n"
     ]
    }
   ],
   "source": [
    "# Evaluate the model on the reduced thermometer-encoded test set\n",
    "predictions = classifier.predict(x_test_te_reduced)\n",
    "accuracy_thermometer = np.mean(np.argmax(predictions, axis=1) == np.argmax(y_test, axis=1))\n",
    "print(\"Accuracy on reduced thermometer-encoded test examples: {:.2%}\".format(accuracy_thermometer))"
   ]
  },
  {
   "cell_type": "markdown",
   "metadata": {},
   "source": [
    "### Total Variance Minimization"
   ]
  },
  {
   "cell_type": "markdown",
   "metadata": {},
   "source": [
    "This technique applies a total variance minimization filter to smooth the input images. It can reduce the effectiveness of small perturbations introduced by attacks like DeepFool."
   ]
  },
  {
   "cell_type": "code",
   "execution_count": 20,
   "metadata": {},
   "outputs": [],
   "source": [
    "#Total Variance Minimization\n",
    "from art.defences.preprocessor import TotalVarMin\n",
    "\n",
    "# Initialize the Total Variance Minimization defense\n",
    "total_var_min = TotalVarMin()\n",
    "\n",
    "# Apply the defense to the test data\n",
    "x_test_tvm, _ = total_var_min(x_test_adv)\n"
   ]
  },
  {
   "cell_type": "code",
   "execution_count": 40,
   "metadata": {},
   "outputs": [
    {
     "name": "stdout",
     "output_type": "stream",
     "text": [
      "Accuracy on total variance minimized test examples: 33.73%\n"
     ]
    }
   ],
   "source": [
    "# Evaluate the model on the total variance minimized test set\n",
    "predictions = classifier.predict(x_test_tvm)\n",
    "accuracy_variance = np.mean(np.argmax(predictions, axis=1) == np.argmax(y_test, axis=1))\n",
    "print(\"Accuracy on total variance minimized test examples: {:.2%}\".format(accuracy_variance))"
   ]
  },
  {
   "cell_type": "markdown",
   "metadata": {},
   "source": [
    "### Gaussian Data Augmentation"
   ]
  },
  {
   "cell_type": "markdown",
   "metadata": {},
   "source": [
    "By adding Gaussian noise to the training data, the model become more robust to the small changes introduced by DeepFool."
   ]
  },
  {
   "cell_type": "code",
   "execution_count": 23,
   "metadata": {},
   "outputs": [],
   "source": [
    "#Gaussian Data Augmentation\n",
    "from art.defences.preprocessor import GaussianAugmentation\n",
    "\n",
    "# Initialize the Gaussian Data Augmentation defense\n",
    "gaussian_augmentation = GaussianAugmentation(sigma=1.0, augmentation=True)\n",
    "\n",
    "# Apply the defense to generate augmented training data\n",
    "x_train_ga, y_train_ga = gaussian_augmentation(x_train, y_train)\n",
    "\n",
    "# Combine the original and augmented data\n",
    "x_train_combined = np.concatenate((x_train, x_train_ga), axis=0)\n",
    "y_train_combined = np.concatenate((y_train, y_train_ga), axis=0)\n",
    "\n",
    "# Train the model with combined data\n",
    "classifier.fit(x_train_combined, y_train_combined, nb_epochs=5, batch_size=64)\n",
    "\n"
   ]
  },
  {
   "cell_type": "code",
   "execution_count": 39,
   "metadata": {},
   "outputs": [
    {
     "name": "stdout",
     "output_type": "stream",
     "text": [
      "Accuracy on test examples after Gaussian Data Augmentation: 96.69%\n"
     ]
    }
   ],
   "source": [
    "# Evaluate the model on the original test set\n",
    "predictions = classifier.predict(x_test_adv)\n",
    "accuracy_gaussian = np.mean(np.argmax(predictions, axis=1) == np.argmax(y_test, axis=1))\n",
    "print(\"Accuracy on test examples after Gaussian Data Augmentation: {:.2%}\".format(accuracy_gaussian))\n"
   ]
  },
  {
   "cell_type": "code",
   "execution_count": 60,
   "metadata": {},
   "outputs": [
    {
     "data": {
      "text/plain": [
       "Text(0.5, 1.0, 'Accuracy after applying the defnses methods')"
      ]
     },
     "execution_count": 60,
     "metadata": {},
     "output_type": "execute_result"
    },
    {
     "data": {
      "image/png": "[encoded data removed]",
      "text/plain": [
       "<Figure size 640x480 with 1 Axes>"
      ]
     },
     "metadata": {},
     "output_type": "display_data"
    }
   ],
   "source": [
    "accuracylist=[accuracy_orginal*100,accuracy_attack*100,accuracy_feature*100,accuracy_thermometer*100,accuracy_variance*100,accuracy_gaussian*100]\n",
    "plt.bar([\"Original\",\"Attack\",\"Feature\",\"Thermometer\",\"Variance\",\"Gaussian\"],accuracylist,width=0.5,color=\"green\")\n",
    "plt.title(\"Accuracy after applying the defnses methods\")"
   ]
  }
 ],
 "metadata": {
  "kernelspec": {
   "display_name": "new",
   "language": "python",
   "name": "python3"
  },
  "language_info": {
   "codemirror_mode": {
    "name": "ipython",
    "version": 3
   },
   "file_extension": ".py",
   "mimetype": "text/x-python",
   "name": "python",
   "nbconvert_exporter": "python",
   "pygments_lexer": "ipython3",
   "version": "3.10.8"
  }
 },
 "nbformat": 4,
 "nbformat_minor": 2
}
